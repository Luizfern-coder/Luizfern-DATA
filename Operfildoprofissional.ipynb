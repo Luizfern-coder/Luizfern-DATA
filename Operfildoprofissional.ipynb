{
  "nbformat": 4,
  "nbformat_minor": 0,
  "metadata": {
    "colab": {
      "provenance": [],
      "authorship_tag": "ABX9TyMvD+QCkBsjarmEJZrHS9Hv",
      "include_colab_link": true
    },
    "kernelspec": {
      "name": "python3",
      "display_name": "Python 3"
    },
    "language_info": {
      "name": "python"
    }
  },
  "cells": [
    {
      "cell_type": "markdown",
      "metadata": {
        "id": "view-in-github",
        "colab_type": "text"
      },
      "source": [
        "<a href=\"https://colab.research.google.com/github/Luizfern-coder/Luizfern-coder/blob/main/Operfildoprofissional.ipynb\" target=\"_parent\"><img src=\"https://colab.research.google.com/assets/colab-badge.svg\" alt=\"Open In Colab\"/></a>"
      ]
    },
    {
      "cell_type": "markdown",
      "source": [
        "## O Perfil do Profissional de Dados no Brasil "
      ],
      "metadata": {
        "id": "O0Qi9ai-JxV6"
      }
    },
    {
      "cell_type": "code",
      "execution_count": 1,
      "metadata": {
        "id": "wFVBeBcWJsVp"
      },
      "outputs": [],
      "source": [
        "import pandas as pd"
      ]
    },
    {
      "cell_type": "code",
      "source": [
        "caminho = '/content/datahackers-survey-2019-anonymous-responses.csv'\n",
        "dados = pd.read_csv(caminho)\n",
        "print('Dados carregados com Sucesso!')"
      ],
      "metadata": {
        "colab": {
          "base_uri": "https://localhost:8080/"
        },
        "id": "jeUVVlfmOsQ4",
        "outputId": "63e937d6-ee92-497c-8895-8c3aa3ce45e8"
      },
      "execution_count": 3,
      "outputs": [
        {
          "output_type": "stream",
          "name": "stdout",
          "text": [
            "Dados carregados com Sucesso!\n"
          ]
        }
      ]
    },
    {
      "cell_type": "code",
      "source": [
        "dados.head()"
      ],
      "metadata": {
        "colab": {
          "base_uri": "https://localhost:8080/",
          "height": 421
        },
        "id": "IJyRVyhjO7ft",
        "outputId": "90b198c8-66c7-43bb-db1a-0ec7cef7e9c1"
      },
      "execution_count": 4,
      "outputs": [
        {
          "output_type": "execute_result",
          "data": {
            "text/plain": [
              "                       ('P0', 'id')  ('P1', 'age') ('P2', 'gender')  \\\n",
              "0  v9otv8j9wdvjrv9otvwnn9owhzq54ktv           37.0        Masculino   \n",
              "1  875ul998t0hqcv0871uptwf3oswcfv35           24.0         Feminino   \n",
              "2  puscuk079vw1pusbb900pzw2xvpxtgdk           26.0        Masculino   \n",
              "3  rmel8ewqpbffp2mnfbzermel8eqincov           21.0        Masculino   \n",
              "4  pj9mgud4d6mdct1l7vq0pj9mgu78h6ju           27.0        Masculino   \n",
              "\n",
              "   ('P3', 'living_in_brasil') ('P5', 'living_state')  \\\n",
              "0                           1      Minas Gerais (MG)   \n",
              "1                           1         São Paulo (SP)   \n",
              "2                           1         São Paulo (SP)   \n",
              "3                           1         São Paulo (SP)   \n",
              "4                           1                    NaN   \n",
              "\n",
              "   ('P6', 'born_or_graduated') ('P8', 'degreee_level')  \\\n",
              "0                          1.0  Estudante de Graduação   \n",
              "1                          1.0  Estudante de Graduação   \n",
              "2                          1.0   Graduação/Bacharelado   \n",
              "3                          0.0  Estudante de Graduação   \n",
              "4                          1.0   Graduação/Bacharelado   \n",
              "\n",
              "  ('P10', 'job_situation') ('P12', 'workers_number')  ('P13', 'manager')  ...  \\\n",
              "0          Empregado (CTL)                  de 1 a 5                 0.0  ...   \n",
              "1          Empregado (CTL)             Acima de 3000                 0.0  ...   \n",
              "2          Empregado (CTL)             Acima de 3000                 0.0  ...   \n",
              "3               Estagiário                de 11 a 50                 0.0  ...   \n",
              "4               Freelancer                 de 6 a 10                 1.0  ...   \n",
              "\n",
              "  ('P34', 'other') ('P35', 'data_science_plataforms_preference')  \\\n",
              "0                0                       Nunca fiz cursos online   \n",
              "1                1                                           NaN   \n",
              "2                0                                         Udemy   \n",
              "3                0                                         Alura   \n",
              "4                0                                         Udemy   \n",
              "\n",
              "       ('P35', 'other')  ('P36', 'draw_participation')  \\\n",
              "0                   NaN                            1.0   \n",
              "1  Data Science Academy                            0.0   \n",
              "2                   NaN                            1.0   \n",
              "3                   NaN                            1.0   \n",
              "4                   NaN                            1.0   \n",
              "\n",
              "   ('D1', 'living_macroregion')  ('D2', 'origin_macroregion')  \\\n",
              "0                Região Sudeste                           NaN   \n",
              "1                Região Sudeste                           NaN   \n",
              "2                Região Sudeste                           NaN   \n",
              "3                Região Sudeste                Região Sudeste   \n",
              "4                           NaN                           NaN   \n",
              "\n",
              "                    ('D3', 'anonymized_degree_area')  \\\n",
              "0  Computação / Engenharia de Software / Sistemas...   \n",
              "1  Computação / Engenharia de Software / Sistemas...   \n",
              "2                                 Outras Engenharias   \n",
              "3  Computação / Engenharia de Software / Sistemas...   \n",
              "4  Computação / Engenharia de Software / Sistemas...   \n",
              "\n",
              "   ('D4', 'anonymized_market_sector')  ('D5', 'anonymized_manager_level')  \\\n",
              "0                              Outras                                 NaN   \n",
              "1                            Educação                                 NaN   \n",
              "2              Indústria (Manufatura)                                 NaN   \n",
              "3      Tecnologia/Fábrica de Software                                 NaN   \n",
              "4                  Internet/Ecommerce             C-level (CDO, CIO, CTO)   \n",
              "\n",
              "              ('D6', 'anonymized_role')  \n",
              "0                                Outras  \n",
              "1        Data Analyst/Analista de Dados  \n",
              "2                                Outras  \n",
              "3  Business Intelligence/Analista de BI  \n",
              "4                                   NaN  \n",
              "\n",
              "[5 rows x 170 columns]"
            ],
            "text/html": [
              "\n",
              "  <div id=\"df-faaa951a-990d-4dff-ac77-21cd014278c9\">\n",
              "    <div class=\"colab-df-container\">\n",
              "      <div>\n",
              "<style scoped>\n",
              "    .dataframe tbody tr th:only-of-type {\n",
              "        vertical-align: middle;\n",
              "    }\n",
              "\n",
              "    .dataframe tbody tr th {\n",
              "        vertical-align: top;\n",
              "    }\n",
              "\n",
              "    .dataframe thead th {\n",
              "        text-align: right;\n",
              "    }\n",
              "</style>\n",
              "<table border=\"1\" class=\"dataframe\">\n",
              "  <thead>\n",
              "    <tr style=\"text-align: right;\">\n",
              "      <th></th>\n",
              "      <th>('P0', 'id')</th>\n",
              "      <th>('P1', 'age')</th>\n",
              "      <th>('P2', 'gender')</th>\n",
              "      <th>('P3', 'living_in_brasil')</th>\n",
              "      <th>('P5', 'living_state')</th>\n",
              "      <th>('P6', 'born_or_graduated')</th>\n",
              "      <th>('P8', 'degreee_level')</th>\n",
              "      <th>('P10', 'job_situation')</th>\n",
              "      <th>('P12', 'workers_number')</th>\n",
              "      <th>('P13', 'manager')</th>\n",
              "      <th>...</th>\n",
              "      <th>('P34', 'other')</th>\n",
              "      <th>('P35', 'data_science_plataforms_preference')</th>\n",
              "      <th>('P35', 'other')</th>\n",
              "      <th>('P36', 'draw_participation')</th>\n",
              "      <th>('D1', 'living_macroregion')</th>\n",
              "      <th>('D2', 'origin_macroregion')</th>\n",
              "      <th>('D3', 'anonymized_degree_area')</th>\n",
              "      <th>('D4', 'anonymized_market_sector')</th>\n",
              "      <th>('D5', 'anonymized_manager_level')</th>\n",
              "      <th>('D6', 'anonymized_role')</th>\n",
              "    </tr>\n",
              "  </thead>\n",
              "  <tbody>\n",
              "    <tr>\n",
              "      <th>0</th>\n",
              "      <td>v9otv8j9wdvjrv9otvwnn9owhzq54ktv</td>\n",
              "      <td>37.0</td>\n",
              "      <td>Masculino</td>\n",
              "      <td>1</td>\n",
              "      <td>Minas Gerais (MG)</td>\n",
              "      <td>1.0</td>\n",
              "      <td>Estudante de Graduação</td>\n",
              "      <td>Empregado (CTL)</td>\n",
              "      <td>de 1 a 5</td>\n",
              "      <td>0.0</td>\n",
              "      <td>...</td>\n",
              "      <td>0</td>\n",
              "      <td>Nunca fiz cursos online</td>\n",
              "      <td>NaN</td>\n",
              "      <td>1.0</td>\n",
              "      <td>Região Sudeste</td>\n",
              "      <td>NaN</td>\n",
              "      <td>Computação / Engenharia de Software / Sistemas...</td>\n",
              "      <td>Outras</td>\n",
              "      <td>NaN</td>\n",
              "      <td>Outras</td>\n",
              "    </tr>\n",
              "    <tr>\n",
              "      <th>1</th>\n",
              "      <td>875ul998t0hqcv0871uptwf3oswcfv35</td>\n",
              "      <td>24.0</td>\n",
              "      <td>Feminino</td>\n",
              "      <td>1</td>\n",
              "      <td>São Paulo (SP)</td>\n",
              "      <td>1.0</td>\n",
              "      <td>Estudante de Graduação</td>\n",
              "      <td>Empregado (CTL)</td>\n",
              "      <td>Acima de 3000</td>\n",
              "      <td>0.0</td>\n",
              "      <td>...</td>\n",
              "      <td>1</td>\n",
              "      <td>NaN</td>\n",
              "      <td>Data Science Academy</td>\n",
              "      <td>0.0</td>\n",
              "      <td>Região Sudeste</td>\n",
              "      <td>NaN</td>\n",
              "      <td>Computação / Engenharia de Software / Sistemas...</td>\n",
              "      <td>Educação</td>\n",
              "      <td>NaN</td>\n",
              "      <td>Data Analyst/Analista de Dados</td>\n",
              "    </tr>\n",
              "    <tr>\n",
              "      <th>2</th>\n",
              "      <td>puscuk079vw1pusbb900pzw2xvpxtgdk</td>\n",
              "      <td>26.0</td>\n",
              "      <td>Masculino</td>\n",
              "      <td>1</td>\n",
              "      <td>São Paulo (SP)</td>\n",
              "      <td>1.0</td>\n",
              "      <td>Graduação/Bacharelado</td>\n",
              "      <td>Empregado (CTL)</td>\n",
              "      <td>Acima de 3000</td>\n",
              "      <td>0.0</td>\n",
              "      <td>...</td>\n",
              "      <td>0</td>\n",
              "      <td>Udemy</td>\n",
              "      <td>NaN</td>\n",
              "      <td>1.0</td>\n",
              "      <td>Região Sudeste</td>\n",
              "      <td>NaN</td>\n",
              "      <td>Outras Engenharias</td>\n",
              "      <td>Indústria (Manufatura)</td>\n",
              "      <td>NaN</td>\n",
              "      <td>Outras</td>\n",
              "    </tr>\n",
              "    <tr>\n",
              "      <th>3</th>\n",
              "      <td>rmel8ewqpbffp2mnfbzermel8eqincov</td>\n",
              "      <td>21.0</td>\n",
              "      <td>Masculino</td>\n",
              "      <td>1</td>\n",
              "      <td>São Paulo (SP)</td>\n",
              "      <td>0.0</td>\n",
              "      <td>Estudante de Graduação</td>\n",
              "      <td>Estagiário</td>\n",
              "      <td>de 11 a 50</td>\n",
              "      <td>0.0</td>\n",
              "      <td>...</td>\n",
              "      <td>0</td>\n",
              "      <td>Alura</td>\n",
              "      <td>NaN</td>\n",
              "      <td>1.0</td>\n",
              "      <td>Região Sudeste</td>\n",
              "      <td>Região Sudeste</td>\n",
              "      <td>Computação / Engenharia de Software / Sistemas...</td>\n",
              "      <td>Tecnologia/Fábrica de Software</td>\n",
              "      <td>NaN</td>\n",
              "      <td>Business Intelligence/Analista de BI</td>\n",
              "    </tr>\n",
              "    <tr>\n",
              "      <th>4</th>\n",
              "      <td>pj9mgud4d6mdct1l7vq0pj9mgu78h6ju</td>\n",
              "      <td>27.0</td>\n",
              "      <td>Masculino</td>\n",
              "      <td>1</td>\n",
              "      <td>NaN</td>\n",
              "      <td>1.0</td>\n",
              "      <td>Graduação/Bacharelado</td>\n",
              "      <td>Freelancer</td>\n",
              "      <td>de 6 a 10</td>\n",
              "      <td>1.0</td>\n",
              "      <td>...</td>\n",
              "      <td>0</td>\n",
              "      <td>Udemy</td>\n",
              "      <td>NaN</td>\n",
              "      <td>1.0</td>\n",
              "      <td>NaN</td>\n",
              "      <td>NaN</td>\n",
              "      <td>Computação / Engenharia de Software / Sistemas...</td>\n",
              "      <td>Internet/Ecommerce</td>\n",
              "      <td>C-level (CDO, CIO, CTO)</td>\n",
              "      <td>NaN</td>\n",
              "    </tr>\n",
              "  </tbody>\n",
              "</table>\n",
              "<p>5 rows × 170 columns</p>\n",
              "</div>\n",
              "      <button class=\"colab-df-convert\" onclick=\"convertToInteractive('df-faaa951a-990d-4dff-ac77-21cd014278c9')\"\n",
              "              title=\"Convert this dataframe to an interactive table.\"\n",
              "              style=\"display:none;\">\n",
              "        \n",
              "  <svg xmlns=\"http://www.w3.org/2000/svg\" height=\"24px\"viewBox=\"0 0 24 24\"\n",
              "       width=\"24px\">\n",
              "    <path d=\"M0 0h24v24H0V0z\" fill=\"none\"/>\n",
              "    <path d=\"M18.56 5.44l.94 2.06.94-2.06 2.06-.94-2.06-.94-.94-2.06-.94 2.06-2.06.94zm-11 1L8.5 8.5l.94-2.06 2.06-.94-2.06-.94L8.5 2.5l-.94 2.06-2.06.94zm10 10l.94 2.06.94-2.06 2.06-.94-2.06-.94-.94-2.06-.94 2.06-2.06.94z\"/><path d=\"M17.41 7.96l-1.37-1.37c-.4-.4-.92-.59-1.43-.59-.52 0-1.04.2-1.43.59L10.3 9.45l-7.72 7.72c-.78.78-.78 2.05 0 2.83L4 21.41c.39.39.9.59 1.41.59.51 0 1.02-.2 1.41-.59l7.78-7.78 2.81-2.81c.8-.78.8-2.07 0-2.86zM5.41 20L4 18.59l7.72-7.72 1.47 1.35L5.41 20z\"/>\n",
              "  </svg>\n",
              "      </button>\n",
              "      \n",
              "  <style>\n",
              "    .colab-df-container {\n",
              "      display:flex;\n",
              "      flex-wrap:wrap;\n",
              "      gap: 12px;\n",
              "    }\n",
              "\n",
              "    .colab-df-convert {\n",
              "      background-color: #E8F0FE;\n",
              "      border: none;\n",
              "      border-radius: 50%;\n",
              "      cursor: pointer;\n",
              "      display: none;\n",
              "      fill: #1967D2;\n",
              "      height: 32px;\n",
              "      padding: 0 0 0 0;\n",
              "      width: 32px;\n",
              "    }\n",
              "\n",
              "    .colab-df-convert:hover {\n",
              "      background-color: #E2EBFA;\n",
              "      box-shadow: 0px 1px 2px rgba(60, 64, 67, 0.3), 0px 1px 3px 1px rgba(60, 64, 67, 0.15);\n",
              "      fill: #174EA6;\n",
              "    }\n",
              "\n",
              "    [theme=dark] .colab-df-convert {\n",
              "      background-color: #3B4455;\n",
              "      fill: #D2E3FC;\n",
              "    }\n",
              "\n",
              "    [theme=dark] .colab-df-convert:hover {\n",
              "      background-color: #434B5C;\n",
              "      box-shadow: 0px 1px 3px 1px rgba(0, 0, 0, 0.15);\n",
              "      filter: drop-shadow(0px 1px 2px rgba(0, 0, 0, 0.3));\n",
              "      fill: #FFFFFF;\n",
              "    }\n",
              "  </style>\n",
              "\n",
              "      <script>\n",
              "        const buttonEl =\n",
              "          document.querySelector('#df-faaa951a-990d-4dff-ac77-21cd014278c9 button.colab-df-convert');\n",
              "        buttonEl.style.display =\n",
              "          google.colab.kernel.accessAllowed ? 'block' : 'none';\n",
              "\n",
              "        async function convertToInteractive(key) {\n",
              "          const element = document.querySelector('#df-faaa951a-990d-4dff-ac77-21cd014278c9');\n",
              "          const dataTable =\n",
              "            await google.colab.kernel.invokeFunction('convertToInteractive',\n",
              "                                                     [key], {});\n",
              "          if (!dataTable) return;\n",
              "\n",
              "          const docLinkHtml = 'Like what you see? Visit the ' +\n",
              "            '<a target=\"_blank\" href=https://colab.research.google.com/notebooks/data_table.ipynb>data table notebook</a>'\n",
              "            + ' to learn more about interactive tables.';\n",
              "          element.innerHTML = '';\n",
              "          dataTable['output_type'] = 'display_data';\n",
              "          await google.colab.output.renderOutput(dataTable, element);\n",
              "          const docLink = document.createElement('div');\n",
              "          docLink.innerHTML = docLinkHtml;\n",
              "          element.appendChild(docLink);\n",
              "        }\n",
              "      </script>\n",
              "    </div>\n",
              "  </div>\n",
              "  "
            ]
          },
          "metadata": {},
          "execution_count": 4
        }
      ]
    },
    {
      "cell_type": "code",
      "source": [
        "dados.info()"
      ],
      "metadata": {
        "colab": {
          "base_uri": "https://localhost:8080/"
        },
        "id": "pmjpKcZfPBOi",
        "outputId": "01b3ffb4-700b-4f6c-f44b-ad3f8a99fea6"
      },
      "execution_count": 5,
      "outputs": [
        {
          "output_type": "stream",
          "name": "stdout",
          "text": [
            "<class 'pandas.core.frame.DataFrame'>\n",
            "RangeIndex: 1765 entries, 0 to 1764\n",
            "Columns: 170 entries, ('P0', 'id') to ('D6', 'anonymized_role')\n",
            "dtypes: float64(5), int64(146), object(19)\n",
            "memory usage: 2.3+ MB\n"
          ]
        }
      ]
    },
    {
      "cell_type": "code",
      "source": [
        "dados.shape#para visualizar as colunas"
      ],
      "metadata": {
        "colab": {
          "base_uri": "https://localhost:8080/"
        },
        "id": "Ze8Kxq1JPBG5",
        "outputId": "73b7ec50-c6a9-4be3-9356-4b8baf91e50a"
      },
      "execution_count": 6,
      "outputs": [
        {
          "output_type": "execute_result",
          "data": {
            "text/plain": [
              "(1765, 170)"
            ]
          },
          "metadata": {},
          "execution_count": 6
        }
      ]
    },
    {
      "cell_type": "code",
      "source": [
        "dados.isnull().sum() #apresentacao de valores nulos #.sum()apresenta a soma dos dados faltantes\n",
        "#nan = not a number\n",
        "#csv = comma separated values"
      ],
      "metadata": {
        "colab": {
          "base_uri": "https://localhost:8080/"
        },
        "id": "kJk2jGFpPWnr",
        "outputId": "06e8b48c-0306-41bb-96e6-b7afe4acddcc"
      },
      "execution_count": 7,
      "outputs": [
        {
          "output_type": "execute_result",
          "data": {
            "text/plain": [
              "('P0', 'id')                             0\n",
              "('P1', 'age')                           24\n",
              "('P2', 'gender')                         3\n",
              "('P3', 'living_in_brasil')               0\n",
              "('P5', 'living_state')                 337\n",
              "                                      ... \n",
              "('D2', 'origin_macroregion')          1440\n",
              "('D3', 'anonymized_degree_area')        35\n",
              "('D4', 'anonymized_market_sector')     243\n",
              "('D5', 'anonymized_manager_level')    1460\n",
              "('D6', 'anonymized_role')              514\n",
              "Length: 170, dtype: int64"
            ]
          },
          "metadata": {},
          "execution_count": 7
        }
      ]
    },
    {
      "cell_type": "code",
      "source": [
        "dados.isnull().mean()[dados.isnull().mean() !=0 ].sort_values()   #media de dados faltantes - apresentacao de dados que não estão faltantes"
      ],
      "metadata": {
        "colab": {
          "base_uri": "https://localhost:8080/"
        },
        "id": "DjfBzWcfRk5r",
        "outputId": "1892b9e6-c12f-4c28-ffbd-d8ef785a9a7f"
      },
      "execution_count": 8,
      "outputs": [
        {
          "output_type": "execute_result",
          "data": {
            "text/plain": [
              "('P2', 'gender')                                 0.001700\n",
              "('P36', 'draw_participation')                    0.002266\n",
              "('P1', 'age')                                    0.013598\n",
              "('P6', 'born_or_graduated')                      0.019263\n",
              "('D3', 'anonymized_degree_area')                 0.019830\n",
              "('P35', 'data_science_plataforms_preference')    0.079320\n",
              "('P12', 'workers_number')                        0.134844\n",
              "('P13', 'manager')                               0.134844\n",
              "('P16', 'salary_range')                          0.134844\n",
              "('D4', 'anonymized_market_sector')               0.137677\n",
              "('P5', 'living_state')                           0.190935\n",
              "('D1', 'living_macroregion')                     0.190935\n",
              "('D6', 'anonymized_role')                        0.291218\n",
              "('P22', 'most_used_proggraming_languages')       0.486686\n",
              "('P29', 'have_data_warehouse')                   0.550708\n",
              "('D2', 'origin_macroregion')                     0.815864\n",
              "('D5', 'anonymized_manager_level')               0.827195\n",
              "('P35', 'other')                                 0.920680\n",
              "dtype: float64"
            ]
          },
          "metadata": {},
          "execution_count": 8
        }
      ]
    },
    {
      "cell_type": "code",
      "source": [
        "dados[\"('D3', 'anonymized_degree_area')\"].value_counts() # value_counts = para contar os valores da variavel "
      ],
      "metadata": {
        "colab": {
          "base_uri": "https://localhost:8080/"
        },
        "id": "-JnaCoaNSGeS",
        "outputId": "083ff2fc-331c-43bf-b53a-49cf3dcea254"
      },
      "execution_count": 9,
      "outputs": [
        {
          "output_type": "execute_result",
          "data": {
            "text/plain": [
              "Computação / Engenharia de Software / Sistemas de Informação    1013\n",
              "Outras Engenharias                                               247\n",
              "Economia/ Administração / Contabilidade / Finanças               174\n",
              "Estatística/ Matemática / Matemática Computacional               104\n",
              "Outras                                                            92\n",
              "Marketing / Publicidade / Comunicação / Jornalismo                47\n",
              "Química / Física                                                  28\n",
              "Ciências Sociais                                                  25\n",
              "Name: ('D3', 'anonymized_degree_area'), dtype: int64"
            ]
          },
          "metadata": {},
          "execution_count": 9
        }
      ]
    },
    {
      "cell_type": "code",
      "source": [
        "#dicionario de dados\n",
        "profmap = {'Desenvolvedor ou Engenheiro de Software': 'Desenvolvedor/Engenheiro de Software', \n",
        "                                            'Outras': 'Outras',\n",
        "                 'Data Scientist/Cientista de Dados': 'Cientista de Dados',\n",
        "                    'Data Analyst/Analista de Dados': 'Analista de Dados',\n",
        "              'Business Intelligence/Analista de BI': 'Analista de BI',\n",
        "                 'Data Engineer/Engenheiro de Dados': 'Engenheiro de Dados',\n",
        "             'Business Analyst/Analista de Negócios': 'Analista de BI',\n",
        "               'Analista de Inteligência de Mercado': 'Analista de BI',\n",
        "                                        'Engenheiro': 'Outras',\n",
        "                             'Analista de Marketing': 'Outras',\n",
        "                    'Engenheiro de Machine Learning': 'Cientista de Dados',\n",
        "               'DBA/Administrador de Banco de Dados': 'Engenheiro de Dados',\n",
        "                                       'Estatístico': 'Cientista de Dados',\n",
        "                                        'Economista': 'Outras'}\n",
        "\n",
        "dados['profissao'] = dados[\"('D6', 'anonymized_role')\"].map(profmap)"
      ],
      "metadata": {
        "id": "ITI_BCwVXlJy"
      },
      "execution_count": 10,
      "outputs": []
    },
    {
      "cell_type": "code",
      "source": [
        "dados['profissao'].value_counts().plot(kind='barh')"
      ],
      "metadata": {
        "colab": {
          "base_uri": "https://localhost:8080/",
          "height": 282
        },
        "id": "cH0sVnBgaeVM",
        "outputId": "a544bfda-7a59-4cc6-9dbb-e9bf38ad7349"
      },
      "execution_count": 11,
      "outputs": [
        {
          "output_type": "execute_result",
          "data": {
            "text/plain": [
              "<matplotlib.axes._subplots.AxesSubplot at 0x7fa8fab542d0>"
            ]
          },
          "metadata": {},
          "execution_count": 11
        },
        {
          "output_type": "display_data",
          "data": {
            "text/plain": [
              "<Figure size 432x288 with 1 Axes>"
            ],
            "image/png": "[encoded data removed]"
          },
          "metadata": {
            "needs_background": "light"
          }
        }
      ]
    },
    {
      "cell_type": "code",
      "source": [
        "dados[\"('P16', 'salary_range')\"].value_counts()"
      ],
      "metadata": {
        "colab": {
          "base_uri": "https://localhost:8080/"
        },
        "id": "6UQSR1KNgNVU",
        "outputId": "b96c9f85-18f3-4aab-d262-3d7ad64a17b0"
      },
      "execution_count": 12,
      "outputs": [
        {
          "output_type": "execute_result",
          "data": {
            "text/plain": [
              "de R$ 4.001/mês a R$ 6.000/mês      308\n",
              "de R$ 8.001/mês a R$ 12.000/mês     237\n",
              "de R$ 6.001/mês a R$ 8.000/mês      229\n",
              "de R$ 3.001/mês a R$ 4.000/mês      219\n",
              "de R$ 1.001/mês a R$ 2.000/mês      181\n",
              "de R$ 2.001/mês a R$ 3000/mês       150\n",
              "de R$ 12.001/mês a R$ 16.000/mês     82\n",
              "Menos de R$ 1.000/mês                48\n",
              "de R$ 16.001/mês a R$ 20.000/mês     45\n",
              "de R$ 20.001/mês a R$ 25.000/mês     15\n",
              "Acima de R$ 25.001/mês               13\n",
              "Name: ('P16', 'salary_range'), dtype: int64"
            ]
          },
          "metadata": {},
          "execution_count": 12
        }
      ]
    },
    {
      "cell_type": "code",
      "source": [
        "dados[\"('P16', 'salary_range')\"].value_counts()"
      ],
      "metadata": {
        "colab": {
          "base_uri": "https://localhost:8080/"
        },
        "id": "1_kYI8PJav-Q",
        "outputId": "7d8c0f96-f9f4-40a4-ed4c-03c1c7443336"
      },
      "execution_count": 13,
      "outputs": [
        {
          "output_type": "execute_result",
          "data": {
            "text/plain": [
              "de R$ 4.001/mês a R$ 6.000/mês      308\n",
              "de R$ 8.001/mês a R$ 12.000/mês     237\n",
              "de R$ 6.001/mês a R$ 8.000/mês      229\n",
              "de R$ 3.001/mês a R$ 4.000/mês      219\n",
              "de R$ 1.001/mês a R$ 2.000/mês      181\n",
              "de R$ 2.001/mês a R$ 3000/mês       150\n",
              "de R$ 12.001/mês a R$ 16.000/mês     82\n",
              "Menos de R$ 1.000/mês                48\n",
              "de R$ 16.001/mês a R$ 20.000/mês     45\n",
              "de R$ 20.001/mês a R$ 25.000/mês     15\n",
              "Acima de R$ 25.001/mês               13\n",
              "Name: ('P16', 'salary_range'), dtype: int64"
            ]
          },
          "metadata": {},
          "execution_count": 13
        }
      ]
    },
    {
      "cell_type": "code",
      "source": [
        "#Pré Processamento básico \n",
        "\n",
        "#criando variaveis mais convenientes\n",
        "\n",
        "#empresas\n",
        "tammap = {'de 1 a 5': 'Pequena',\n",
        "          'de 6 a 10': 'Pequena',\n",
        "          'de 11 a 50': 'Pequena',\n",
        "          'de 51 a 100': 'Pequena',\n",
        "          'de 101 a 500': 'Média',\n",
        "          'de 501 a 1000': 'Média',\n",
        "          'de 1001 a 3000': 'Grande',\n",
        "          'Acima de 3000': 'Grande'}\n",
        "\n",
        "#salarios\n",
        "\n",
        "salmap = {' Menos de R$ 1.000/mês': 1000,\n",
        "          'de R$ 1.001/mês a R$ 2.000/mês': 1500,\n",
        "          'de R$ 2.001/mês a R$ 3000/mês' : 2500,\n",
        "          'de R$ 3.001/mês a R$ 4.000/mês': 3500,\n",
        "          'de R$ 4.001/mês a R$ 6.000/mês': 5000,\n",
        "          'de R$ 6.001/mês a R$ 8.000/mês': 7000,\n",
        "          'de R$ 8.001/mês a R$ 12.000/mês': 10000,\n",
        "          'de R$ 12.001/mês a R$ 16.000/mês': 14000,\n",
        "          'de R$ 16.001/mês a R$ 20.000/mês': 18000,\n",
        "          'de R$ 20.001/mês a R$ 25.000/mês': 22500,\n",
        "          'Acima de R$ 25.001/mês': 25000}\n",
        "\n",
        "#discretização da idade (escolha arbitraria dos cortes)\n",
        "\n",
        "cortes = [0, 24, 30, 40, 100]\n",
        "nomes = ['[18,24]', '[25,30]', '[31,40]', '[41,50]']\n",
        "\n",
        "#criando um novo dataset com as informações de maior interesse\n",
        "\n",
        "dados['idade'] = pd.cut(dados[\"('P1', 'age')\"], bins = cortes, labels= nomes)\n",
        "\n",
        "dados['salario'] = dados[\"('P16', 'salary_range')\"].map(salmap)\n",
        "dados['tamanho_da_empresa'] = dados[\"('P12', 'workers_number')\"].map(tammap)\n",
        "\n",
        "dados['gestor'] = dados[\"('P13', 'manager')\"].map({0: 'não', 1: 'sim'})\n",
        "dados['se_considera_ds'] = dados[\"('P19', 'is_data_science_professional')\"].map({0: 'não', 1: 'sim'})\n",
        "\n",
        "dados['sexo'] = dados[\"('P2', 'gender')\"]\n",
        "dados['experiencia_ds'] = dados[\"('P17', 'time_experience_data_science')\"]\n",
        "dados['tipo_de_trabalho'] = dados[\"('P10', 'job_situation')\"]\n",
        "dados['escolaridade'] = dados[\"('P8', 'degreee_level')\"]\n",
        "dados['area_de_formacao'] = dados[\"('D3', 'anonymized_degree_area')\"]\n",
        "dados['setor_de_mercado'] = dados[\"('D4', 'anonymized_market_sector')\"]\n",
        "dados['plataforma_favorita'] = dados[\"('P35', 'data_science_plataforms_preference')\"]\n",
        "\n",
        "dados.head()"
      ],
      "metadata": {
        "colab": {
          "base_uri": "https://localhost:8080/",
          "height": 543
        },
        "id": "0BjLNbICbgT5",
        "outputId": "2fee24d3-6e9b-409b-b58b-deae91aa0940"
      },
      "execution_count": 14,
      "outputs": [
        {
          "output_type": "execute_result",
          "data": {
            "text/plain": [
              "                       ('P0', 'id')  ('P1', 'age') ('P2', 'gender')  \\\n",
              "0  v9otv8j9wdvjrv9otvwnn9owhzq54ktv           37.0        Masculino   \n",
              "1  875ul998t0hqcv0871uptwf3oswcfv35           24.0         Feminino   \n",
              "2  puscuk079vw1pusbb900pzw2xvpxtgdk           26.0        Masculino   \n",
              "3  rmel8ewqpbffp2mnfbzermel8eqincov           21.0        Masculino   \n",
              "4  pj9mgud4d6mdct1l7vq0pj9mgu78h6ju           27.0        Masculino   \n",
              "\n",
              "   ('P3', 'living_in_brasil') ('P5', 'living_state')  \\\n",
              "0                           1      Minas Gerais (MG)   \n",
              "1                           1         São Paulo (SP)   \n",
              "2                           1         São Paulo (SP)   \n",
              "3                           1         São Paulo (SP)   \n",
              "4                           1                    NaN   \n",
              "\n",
              "   ('P6', 'born_or_graduated') ('P8', 'degreee_level')  \\\n",
              "0                          1.0  Estudante de Graduação   \n",
              "1                          1.0  Estudante de Graduação   \n",
              "2                          1.0   Graduação/Bacharelado   \n",
              "3                          0.0  Estudante de Graduação   \n",
              "4                          1.0   Graduação/Bacharelado   \n",
              "\n",
              "  ('P10', 'job_situation') ('P12', 'workers_number')  ('P13', 'manager')  ...  \\\n",
              "0          Empregado (CTL)                  de 1 a 5                 0.0  ...   \n",
              "1          Empregado (CTL)             Acima de 3000                 0.0  ...   \n",
              "2          Empregado (CTL)             Acima de 3000                 0.0  ...   \n",
              "3               Estagiário                de 11 a 50                 0.0  ...   \n",
              "4               Freelancer                 de 6 a 10                 1.0  ...   \n",
              "\n",
              "  tamanho_da_empresa gestor se_considera_ds       sexo  \\\n",
              "0            Pequena    não             não  Masculino   \n",
              "1             Grande    não             sim   Feminino   \n",
              "2             Grande    não             sim  Masculino   \n",
              "3            Pequena    não             sim  Masculino   \n",
              "4            Pequena    sim             sim  Masculino   \n",
              "\n",
              "                           experiencia_ds  tipo_de_trabalho  \\\n",
              "0  Não tenho experiência na área de dados   Empregado (CTL)   \n",
              "1                          Menos de 1 ano   Empregado (CTL)   \n",
              "2                           de 1 a 2 anos   Empregado (CTL)   \n",
              "3                          Menos de 1 ano        Estagiário   \n",
              "4                           de 4 a 5 anos        Freelancer   \n",
              "\n",
              "             escolaridade                                   area_de_formacao  \\\n",
              "0  Estudante de Graduação  Computação / Engenharia de Software / Sistemas...   \n",
              "1  Estudante de Graduação  Computação / Engenharia de Software / Sistemas...   \n",
              "2   Graduação/Bacharelado                                 Outras Engenharias   \n",
              "3  Estudante de Graduação  Computação / Engenharia de Software / Sistemas...   \n",
              "4   Graduação/Bacharelado  Computação / Engenharia de Software / Sistemas...   \n",
              "\n",
              "                 setor_de_mercado      plataforma_favorita  \n",
              "0                          Outras  Nunca fiz cursos online  \n",
              "1                        Educação                      NaN  \n",
              "2          Indústria (Manufatura)                    Udemy  \n",
              "3  Tecnologia/Fábrica de Software                    Alura  \n",
              "4              Internet/Ecommerce                    Udemy  \n",
              "\n",
              "[5 rows x 183 columns]"
            ],
            "text/html": [
              "\n",
              "  <div id=\"df-787d4e25-90ce-45a4-a6e9-c9b862ddb87b\">\n",
              "    <div class=\"colab-df-container\">\n",
              "      <div>\n",
              "<style scoped>\n",
              "    .dataframe tbody tr th:only-of-type {\n",
              "        vertical-align: middle;\n",
              "    }\n",
              "\n",
              "    .dataframe tbody tr th {\n",
              "        vertical-align: top;\n",
              "    }\n",
              "\n",
              "    .dataframe thead th {\n",
              "        text-align: right;\n",
              "    }\n",
              "</style>\n",
              "<table border=\"1\" class=\"dataframe\">\n",
              "  <thead>\n",
              "    <tr style=\"text-align: right;\">\n",
              "      <th></th>\n",
              "      <th>('P0', 'id')</th>\n",
              "      <th>('P1', 'age')</th>\n",
              "      <th>('P2', 'gender')</th>\n",
              "      <th>('P3', 'living_in_brasil')</th>\n",
              "      <th>('P5', 'living_state')</th>\n",
              "      <th>('P6', 'born_or_graduated')</th>\n",
              "      <th>('P8', 'degreee_level')</th>\n",
              "      <th>('P10', 'job_situation')</th>\n",
              "      <th>('P12', 'workers_number')</th>\n",
              "      <th>('P13', 'manager')</th>\n",
              "      <th>...</th>\n",
              "      <th>tamanho_da_empresa</th>\n",
              "      <th>gestor</th>\n",
              "      <th>se_considera_ds</th>\n",
              "      <th>sexo</th>\n",
              "      <th>experiencia_ds</th>\n",
              "      <th>tipo_de_trabalho</th>\n",
              "      <th>escolaridade</th>\n",
              "      <th>area_de_formacao</th>\n",
              "      <th>setor_de_mercado</th>\n",
              "      <th>plataforma_favorita</th>\n",
              "    </tr>\n",
              "  </thead>\n",
              "  <tbody>\n",
              "    <tr>\n",
              "      <th>0</th>\n",
              "      <td>v9otv8j9wdvjrv9otvwnn9owhzq54ktv</td>\n",
              "      <td>37.0</td>\n",
              "      <td>Masculino</td>\n",
              "      <td>1</td>\n",
              "      <td>Minas Gerais (MG)</td>\n",
              "      <td>1.0</td>\n",
              "      <td>Estudante de Graduação</td>\n",
              "      <td>Empregado (CTL)</td>\n",
              "      <td>de 1 a 5</td>\n",
              "      <td>0.0</td>\n",
              "      <td>...</td>\n",
              "      <td>Pequena</td>\n",
              "      <td>não</td>\n",
              "      <td>não</td>\n",
              "      <td>Masculino</td>\n",
              "      <td>Não tenho experiência na área de dados</td>\n",
              "      <td>Empregado (CTL)</td>\n",
              "      <td>Estudante de Graduação</td>\n",
              "      <td>Computação / Engenharia de Software / Sistemas...</td>\n",
              "      <td>Outras</td>\n",
              "      <td>Nunca fiz cursos online</td>\n",
              "    </tr>\n",
              "    <tr>\n",
              "      <th>1</th>\n",
              "      <td>875ul998t0hqcv0871uptwf3oswcfv35</td>\n",
              "      <td>24.0</td>\n",
              "      <td>Feminino</td>\n",
              "      <td>1</td>\n",
              "      <td>São Paulo (SP)</td>\n",
              "      <td>1.0</td>\n",
              "      <td>Estudante de Graduação</td>\n",
              "      <td>Empregado (CTL)</td>\n",
              "      <td>Acima de 3000</td>\n",
              "      <td>0.0</td>\n",
              "      <td>...</td>\n",
              "      <td>Grande</td>\n",
              "      <td>não</td>\n",
              "      <td>sim</td>\n",
              "      <td>Feminino</td>\n",
              "      <td>Menos de 1 ano</td>\n",
              "      <td>Empregado (CTL)</td>\n",
              "      <td>Estudante de Graduação</td>\n",
              "      <td>Computação / Engenharia de Software / Sistemas...</td>\n",
              "      <td>Educação</td>\n",
              "      <td>NaN</td>\n",
              "    </tr>\n",
              "    <tr>\n",
              "      <th>2</th>\n",
              "      <td>puscuk079vw1pusbb900pzw2xvpxtgdk</td>\n",
              "      <td>26.0</td>\n",
              "      <td>Masculino</td>\n",
              "      <td>1</td>\n",
              "      <td>São Paulo (SP)</td>\n",
              "      <td>1.0</td>\n",
              "      <td>Graduação/Bacharelado</td>\n",
              "      <td>Empregado (CTL)</td>\n",
              "      <td>Acima de 3000</td>\n",
              "      <td>0.0</td>\n",
              "      <td>...</td>\n",
              "      <td>Grande</td>\n",
              "      <td>não</td>\n",
              "      <td>sim</td>\n",
              "      <td>Masculino</td>\n",
              "      <td>de 1 a 2 anos</td>\n",
              "      <td>Empregado (CTL)</td>\n",
              "      <td>Graduação/Bacharelado</td>\n",
              "      <td>Outras Engenharias</td>\n",
              "      <td>Indústria (Manufatura)</td>\n",
              "      <td>Udemy</td>\n",
              "    </tr>\n",
              "    <tr>\n",
              "      <th>3</th>\n",
              "      <td>rmel8ewqpbffp2mnfbzermel8eqincov</td>\n",
              "      <td>21.0</td>\n",
              "      <td>Masculino</td>\n",
              "      <td>1</td>\n",
              "      <td>São Paulo (SP)</td>\n",
              "      <td>0.0</td>\n",
              "      <td>Estudante de Graduação</td>\n",
              "      <td>Estagiário</td>\n",
              "      <td>de 11 a 50</td>\n",
              "      <td>0.0</td>\n",
              "      <td>...</td>\n",
              "      <td>Pequena</td>\n",
              "      <td>não</td>\n",
              "      <td>sim</td>\n",
              "      <td>Masculino</td>\n",
              "      <td>Menos de 1 ano</td>\n",
              "      <td>Estagiário</td>\n",
              "      <td>Estudante de Graduação</td>\n",
              "      <td>Computação / Engenharia de Software / Sistemas...</td>\n",
              "      <td>Tecnologia/Fábrica de Software</td>\n",
              "      <td>Alura</td>\n",
              "    </tr>\n",
              "    <tr>\n",
              "      <th>4</th>\n",
              "      <td>pj9mgud4d6mdct1l7vq0pj9mgu78h6ju</td>\n",
              "      <td>27.0</td>\n",
              "      <td>Masculino</td>\n",
              "      <td>1</td>\n",
              "      <td>NaN</td>\n",
              "      <td>1.0</td>\n",
              "      <td>Graduação/Bacharelado</td>\n",
              "      <td>Freelancer</td>\n",
              "      <td>de 6 a 10</td>\n",
              "      <td>1.0</td>\n",
              "      <td>...</td>\n",
              "      <td>Pequena</td>\n",
              "      <td>sim</td>\n",
              "      <td>sim</td>\n",
              "      <td>Masculino</td>\n",
              "      <td>de 4 a 5 anos</td>\n",
              "      <td>Freelancer</td>\n",
              "      <td>Graduação/Bacharelado</td>\n",
              "      <td>Computação / Engenharia de Software / Sistemas...</td>\n",
              "      <td>Internet/Ecommerce</td>\n",
              "      <td>Udemy</td>\n",
              "    </tr>\n",
              "  </tbody>\n",
              "</table>\n",
              "<p>5 rows × 183 columns</p>\n",
              "</div>\n",
              "      <button class=\"colab-df-convert\" onclick=\"convertToInteractive('df-787d4e25-90ce-45a4-a6e9-c9b862ddb87b')\"\n",
              "              title=\"Convert this dataframe to an interactive table.\"\n",
              "              style=\"display:none;\">\n",
              "        \n",
              "  <svg xmlns=\"http://www.w3.org/2000/svg\" height=\"24px\"viewBox=\"0 0 24 24\"\n",
              "       width=\"24px\">\n",
              "    <path d=\"M0 0h24v24H0V0z\" fill=\"none\"/>\n",
              "    <path d=\"M18.56 5.44l.94 2.06.94-2.06 2.06-.94-2.06-.94-.94-2.06-.94 2.06-2.06.94zm-11 1L8.5 8.5l.94-2.06 2.06-.94-2.06-.94L8.5 2.5l-.94 2.06-2.06.94zm10 10l.94 2.06.94-2.06 2.06-.94-2.06-.94-.94-2.06-.94 2.06-2.06.94z\"/><path d=\"M17.41 7.96l-1.37-1.37c-.4-.4-.92-.59-1.43-.59-.52 0-1.04.2-1.43.59L10.3 9.45l-7.72 7.72c-.78.78-.78 2.05 0 2.83L4 21.41c.39.39.9.59 1.41.59.51 0 1.02-.2 1.41-.59l7.78-7.78 2.81-2.81c.8-.78.8-2.07 0-2.86zM5.41 20L4 18.59l7.72-7.72 1.47 1.35L5.41 20z\"/>\n",
              "  </svg>\n",
              "      </button>\n",
              "      \n",
              "  <style>\n",
              "    .colab-df-container {\n",
              "      display:flex;\n",
              "      flex-wrap:wrap;\n",
              "      gap: 12px;\n",
              "    }\n",
              "\n",
              "    .colab-df-convert {\n",
              "      background-color: #E8F0FE;\n",
              "      border: none;\n",
              "      border-radius: 50%;\n",
              "      cursor: pointer;\n",
              "      display: none;\n",
              "      fill: #1967D2;\n",
              "      height: 32px;\n",
              "      padding: 0 0 0 0;\n",
              "      width: 32px;\n",
              "    }\n",
              "\n",
              "    .colab-df-convert:hover {\n",
              "      background-color: #E2EBFA;\n",
              "      box-shadow: 0px 1px 2px rgba(60, 64, 67, 0.3), 0px 1px 3px 1px rgba(60, 64, 67, 0.15);\n",
              "      fill: #174EA6;\n",
              "    }\n",
              "\n",
              "    [theme=dark] .colab-df-convert {\n",
              "      background-color: #3B4455;\n",
              "      fill: #D2E3FC;\n",
              "    }\n",
              "\n",
              "    [theme=dark] .colab-df-convert:hover {\n",
              "      background-color: #434B5C;\n",
              "      box-shadow: 0px 1px 3px 1px rgba(0, 0, 0, 0.15);\n",
              "      filter: drop-shadow(0px 1px 2px rgba(0, 0, 0, 0.3));\n",
              "      fill: #FFFFFF;\n",
              "    }\n",
              "  </style>\n",
              "\n",
              "      <script>\n",
              "        const buttonEl =\n",
              "          document.querySelector('#df-787d4e25-90ce-45a4-a6e9-c9b862ddb87b button.colab-df-convert');\n",
              "        buttonEl.style.display =\n",
              "          google.colab.kernel.accessAllowed ? 'block' : 'none';\n",
              "\n",
              "        async function convertToInteractive(key) {\n",
              "          const element = document.querySelector('#df-787d4e25-90ce-45a4-a6e9-c9b862ddb87b');\n",
              "          const dataTable =\n",
              "            await google.colab.kernel.invokeFunction('convertToInteractive',\n",
              "                                                     [key], {});\n",
              "          if (!dataTable) return;\n",
              "\n",
              "          const docLinkHtml = 'Like what you see? Visit the ' +\n",
              "            '<a target=\"_blank\" href=https://colab.research.google.com/notebooks/data_table.ipynb>data table notebook</a>'\n",
              "            + ' to learn more about interactive tables.';\n",
              "          element.innerHTML = '';\n",
              "          dataTable['output_type'] = 'display_data';\n",
              "          await google.colab.output.renderOutput(dataTable, element);\n",
              "          const docLink = document.createElement('div');\n",
              "          docLink.innerHTML = docLinkHtml;\n",
              "          element.appendChild(docLink);\n",
              "        }\n",
              "      </script>\n",
              "    </div>\n",
              "  </div>\n",
              "  "
            ]
          },
          "metadata": {},
          "execution_count": 14
        }
      ]
    },
    {
      "cell_type": "code",
      "source": [
        "dados['salario'].mean()"
      ],
      "metadata": {
        "colab": {
          "base_uri": "https://localhost:8080/"
        },
        "id": "HZizAtCwhyeX",
        "outputId": "a9e0c788-c89f-4e6b-b4ba-7b5eb6ec68db"
      },
      "execution_count": 15,
      "outputs": [
        {
          "output_type": "execute_result",
          "data": {
            "text/plain": [
              "6454.699121027721"
            ]
          },
          "metadata": {},
          "execution_count": 15
        }
      ]
    },
    {
      "cell_type": "code",
      "source": [
        "dados.groupby(['profissao']).mean()['salario'].round(2)"
      ],
      "metadata": {
        "colab": {
          "base_uri": "https://localhost:8080/"
        },
        "id": "PrSJfroAiI1V",
        "outputId": "8de86df6-b822-4bc2-d796-56c797d881d3"
      },
      "execution_count": 16,
      "outputs": [
        {
          "output_type": "execute_result",
          "data": {
            "text/plain": [
              "profissao\n",
              "Analista de BI                          5092.21\n",
              "Analista de Dados                       5164.56\n",
              "Cientista de Dados                      7018.72\n",
              "Desenvolvedor/Engenheiro de Software    5345.79\n",
              "Engenheiro de Dados                     7802.08\n",
              "Outras                                  5092.66\n",
              "Name: salario, dtype: float64"
            ]
          },
          "metadata": {},
          "execution_count": 16
        }
      ]
    },
    {
      "cell_type": "code",
      "source": [
        "dados.groupby(['idade']).mean()['salario'].round(2)"
      ],
      "metadata": {
        "colab": {
          "base_uri": "https://localhost:8080/"
        },
        "id": "3lUbBVtri_WL",
        "outputId": "58606506-1535-4de4-89bb-38b9d8857386"
      },
      "execution_count": 17,
      "outputs": [
        {
          "output_type": "execute_result",
          "data": {
            "text/plain": [
              "idade\n",
              "[18,24]    3327.59\n",
              "[25,30]    5538.67\n",
              "[31,40]    8476.14\n",
              "[41,50]    9669.72\n",
              "Name: salario, dtype: float64"
            ]
          },
          "metadata": {},
          "execution_count": 17
        }
      ]
    },
    {
      "cell_type": "code",
      "source": [
        "dados.groupby(['experiencia_ds']).mean()['salario'].round(2) #agrupamento "
      ],
      "metadata": {
        "colab": {
          "base_uri": "https://localhost:8080/"
        },
        "id": "uZlZnVveSnc5",
        "outputId": "bccbe4e9-8fd4-48c1-92b2-aeee0b12e507"
      },
      "execution_count": 18,
      "outputs": [
        {
          "output_type": "execute_result",
          "data": {
            "text/plain": [
              "experiencia_ds\n",
              "Mais de 10 anos                           10711.54\n",
              "Menos de 1 ano                             4170.09\n",
              "Não tenho experiência na área de dados     4837.66\n",
              "de 1 a 2 anos                              5295.53\n",
              "de 2 a 3 anos                              6361.61\n",
              "de 4 a 5 anos                              8374.25\n",
              "de 6 a 10 anos                             9433.14\n",
              "Name: salario, dtype: float64"
            ]
          },
          "metadata": {},
          "execution_count": 18
        }
      ]
    },
    {
      "cell_type": "code",
      "source": [
        "cds = dados[dados ['profissao'] == 'Cientista de Dados']\n"
      ],
      "metadata": {
        "id": "KB7OuIdGUHz5"
      },
      "execution_count": 19,
      "outputs": []
    },
    {
      "cell_type": "code",
      "source": [
        "cds.groupby(['experiencia_ds']).mean()['salario'].round(2)"
      ],
      "metadata": {
        "colab": {
          "base_uri": "https://localhost:8080/"
        },
        "id": "z9kZJWZuUcX1",
        "outputId": "c3f49478-5915-4717-8bc7-b9c35f95789c"
      },
      "execution_count": 20,
      "outputs": [
        {
          "output_type": "execute_result",
          "data": {
            "text/plain": [
              "experiencia_ds\n",
              "Mais de 10 anos                           10409.09\n",
              "Menos de 1 ano                             3972.22\n",
              "Não tenho experiência na área de dados     2500.00\n",
              "de 1 a 2 anos                              5490.91\n",
              "de 2 a 3 anos                              6704.55\n",
              "de 4 a 5 anos                             10648.15\n",
              "de 6 a 10 anos                            12923.08\n",
              "Name: salario, dtype: float64"
            ]
          },
          "metadata": {},
          "execution_count": 20
        }
      ]
    },
    {
      "cell_type": "code",
      "source": [
        "cds.groupby(['sexo']).mean()['salario'].round(2).plot(kind='bar')"
      ],
      "metadata": {
        "colab": {
          "base_uri": "https://localhost:8080/",
          "height": 336
        },
        "id": "WGr-O1eKgNIL",
        "outputId": "ee2a1574-901c-4779-ecee-726fac40839f"
      },
      "execution_count": 21,
      "outputs": [
        {
          "output_type": "execute_result",
          "data": {
            "text/plain": [
              "<matplotlib.axes._subplots.AxesSubplot at 0x7fa8f7dab110>"
            ]
          },
          "metadata": {},
          "execution_count": 21
        },
        {
          "output_type": "display_data",
          "data": {
            "text/plain": [
              "<Figure size 432x288 with 1 Axes>"
            ],
            "image/png": "[encoded data removed]"
          },
          "metadata": {
            "needs_background": "light"
          }
        }
      ]
    },
    {
      "cell_type": "code",
      "source": [
        "cds.groupby(['sexo']).count()['salario'].round(2).plot(kind='pie') #grafico de proporcao salario entre masculino e feminino"
      ],
      "metadata": {
        "colab": {
          "base_uri": "https://localhost:8080/",
          "height": 265
        },
        "id": "4Lqw5N_jgo76",
        "outputId": "e7cbb57b-9ba3-485b-c823-84852d2666aa"
      },
      "execution_count": 22,
      "outputs": [
        {
          "output_type": "execute_result",
          "data": {
            "text/plain": [
              "<matplotlib.axes._subplots.AxesSubplot at 0x7fa8f77a6050>"
            ]
          },
          "metadata": {},
          "execution_count": 22
        },
        {
          "output_type": "display_data",
          "data": {
            "text/plain": [
              "<Figure size 432x288 with 1 Axes>"
            ],
            "image/png": "[encoded data removed]"
          },
          "metadata": {}
        }
      ]
    },
    {
      "cell_type": "code",
      "source": [
        "cds.groupby(['tamanho_da_empresa']).mean()['salario'].round(2) #pesquisa por tamanho da empresa"
      ],
      "metadata": {
        "colab": {
          "base_uri": "https://localhost:8080/"
        },
        "id": "kqoYSAIIg2yh",
        "outputId": "5fa406b7-00ab-477c-da5d-38eccc5300d9"
      },
      "execution_count": 23,
      "outputs": [
        {
          "output_type": "execute_result",
          "data": {
            "text/plain": [
              "tamanho_da_empresa\n",
              "Grande     8193.55\n",
              "Média      7436.62\n",
              "Pequena    5120.37\n",
              "Name: salario, dtype: float64"
            ]
          },
          "metadata": {},
          "execution_count": 23
        }
      ]
    },
    {
      "cell_type": "code",
      "source": [
        "cds.groupby(['tamanho_da_empresa', 'sexo']).count()['salario'].round(2).unstack().plot(kind='bar') #agrupamento por tamanho + sexo"
      ],
      "metadata": {
        "colab": {
          "base_uri": "https://localhost:8080/",
          "height": 330
        },
        "id": "VWLAL4Nqk0uD",
        "outputId": "4494e05a-53a8-4439-e0f1-da1f352b027e"
      },
      "execution_count": 24,
      "outputs": [
        {
          "output_type": "execute_result",
          "data": {
            "text/plain": [
              "<matplotlib.axes._subplots.AxesSubplot at 0x7fa8f77898d0>"
            ]
          },
          "metadata": {},
          "execution_count": 24
        },
        {
          "output_type": "display_data",
          "data": {
            "text/plain": [
              "<Figure size 432x288 with 1 Axes>"
            ],
            "image/png": "[encoded data removed]"
          },
          "metadata": {
            "needs_background": "light"
          }
        }
      ]
    },
    {
      "cell_type": "code",
      "source": [
        "sexoempresa = cds.groupby(['tamanho_da_empresa', 'sexo']).count()['salario'].round(2).unstack()"
      ],
      "metadata": {
        "id": "Gu9-Pk2Wln2m"
      },
      "execution_count": 25,
      "outputs": []
    },
    {
      "cell_type": "code",
      "source": [
        "sexoempresa"
      ],
      "metadata": {
        "colab": {
          "base_uri": "https://localhost:8080/",
          "height": 175
        },
        "id": "UiXRJaL3YSoa",
        "outputId": "710ff4d8-8392-481a-810c-c0f27123d982"
      },
      "execution_count": 26,
      "outputs": [
        {
          "output_type": "execute_result",
          "data": {
            "text/plain": [
              "sexo                Feminino  Masculino\n",
              "tamanho_da_empresa                     \n",
              "Grande                     7         55\n",
              "Média                     16         55\n",
              "Pequena                    7         47"
            ],
            "text/html": [
              "\n",
              "  <div id=\"df-e6e2d3d5-16db-41d8-9db3-88b0807dee80\">\n",
              "    <div class=\"colab-df-container\">\n",
              "      <div>\n",
              "<style scoped>\n",
              "    .dataframe tbody tr th:only-of-type {\n",
              "        vertical-align: middle;\n",
              "    }\n",
              "\n",
              "    .dataframe tbody tr th {\n",
              "        vertical-align: top;\n",
              "    }\n",
              "\n",
              "    .dataframe thead th {\n",
              "        text-align: right;\n",
              "    }\n",
              "</style>\n",
              "<table border=\"1\" class=\"dataframe\">\n",
              "  <thead>\n",
              "    <tr style=\"text-align: right;\">\n",
              "      <th>sexo</th>\n",
              "      <th>Feminino</th>\n",
              "      <th>Masculino</th>\n",
              "    </tr>\n",
              "    <tr>\n",
              "      <th>tamanho_da_empresa</th>\n",
              "      <th></th>\n",
              "      <th></th>\n",
              "    </tr>\n",
              "  </thead>\n",
              "  <tbody>\n",
              "    <tr>\n",
              "      <th>Grande</th>\n",
              "      <td>7</td>\n",
              "      <td>55</td>\n",
              "    </tr>\n",
              "    <tr>\n",
              "      <th>Média</th>\n",
              "      <td>16</td>\n",
              "      <td>55</td>\n",
              "    </tr>\n",
              "    <tr>\n",
              "      <th>Pequena</th>\n",
              "      <td>7</td>\n",
              "      <td>47</td>\n",
              "    </tr>\n",
              "  </tbody>\n",
              "</table>\n",
              "</div>\n",
              "      <button class=\"colab-df-convert\" onclick=\"convertToInteractive('df-e6e2d3d5-16db-41d8-9db3-88b0807dee80')\"\n",
              "              title=\"Convert this dataframe to an interactive table.\"\n",
              "              style=\"display:none;\">\n",
              "        \n",
              "  <svg xmlns=\"http://www.w3.org/2000/svg\" height=\"24px\"viewBox=\"0 0 24 24\"\n",
              "       width=\"24px\">\n",
              "    <path d=\"M0 0h24v24H0V0z\" fill=\"none\"/>\n",
              "    <path d=\"M18.56 5.44l.94 2.06.94-2.06 2.06-.94-2.06-.94-.94-2.06-.94 2.06-2.06.94zm-11 1L8.5 8.5l.94-2.06 2.06-.94-2.06-.94L8.5 2.5l-.94 2.06-2.06.94zm10 10l.94 2.06.94-2.06 2.06-.94-2.06-.94-.94-2.06-.94 2.06-2.06.94z\"/><path d=\"M17.41 7.96l-1.37-1.37c-.4-.4-.92-.59-1.43-.59-.52 0-1.04.2-1.43.59L10.3 9.45l-7.72 7.72c-.78.78-.78 2.05 0 2.83L4 21.41c.39.39.9.59 1.41.59.51 0 1.02-.2 1.41-.59l7.78-7.78 2.81-2.81c.8-.78.8-2.07 0-2.86zM5.41 20L4 18.59l7.72-7.72 1.47 1.35L5.41 20z\"/>\n",
              "  </svg>\n",
              "      </button>\n",
              "      \n",
              "  <style>\n",
              "    .colab-df-container {\n",
              "      display:flex;\n",
              "      flex-wrap:wrap;\n",
              "      gap: 12px;\n",
              "    }\n",
              "\n",
              "    .colab-df-convert {\n",
              "      background-color: #E8F0FE;\n",
              "      border: none;\n",
              "      border-radius: 50%;\n",
              "      cursor: pointer;\n",
              "      display: none;\n",
              "      fill: #1967D2;\n",
              "      height: 32px;\n",
              "      padding: 0 0 0 0;\n",
              "      width: 32px;\n",
              "    }\n",
              "\n",
              "    .colab-df-convert:hover {\n",
              "      background-color: #E2EBFA;\n",
              "      box-shadow: 0px 1px 2px rgba(60, 64, 67, 0.3), 0px 1px 3px 1px rgba(60, 64, 67, 0.15);\n",
              "      fill: #174EA6;\n",
              "    }\n",
              "\n",
              "    [theme=dark] .colab-df-convert {\n",
              "      background-color: #3B4455;\n",
              "      fill: #D2E3FC;\n",
              "    }\n",
              "\n",
              "    [theme=dark] .colab-df-convert:hover {\n",
              "      background-color: #434B5C;\n",
              "      box-shadow: 0px 1px 3px 1px rgba(0, 0, 0, 0.15);\n",
              "      filter: drop-shadow(0px 1px 2px rgba(0, 0, 0, 0.3));\n",
              "      fill: #FFFFFF;\n",
              "    }\n",
              "  </style>\n",
              "\n",
              "      <script>\n",
              "        const buttonEl =\n",
              "          document.querySelector('#df-e6e2d3d5-16db-41d8-9db3-88b0807dee80 button.colab-df-convert');\n",
              "        buttonEl.style.display =\n",
              "          google.colab.kernel.accessAllowed ? 'block' : 'none';\n",
              "\n",
              "        async function convertToInteractive(key) {\n",
              "          const element = document.querySelector('#df-e6e2d3d5-16db-41d8-9db3-88b0807dee80');\n",
              "          const dataTable =\n",
              "            await google.colab.kernel.invokeFunction('convertToInteractive',\n",
              "                                                     [key], {});\n",
              "          if (!dataTable) return;\n",
              "\n",
              "          const docLinkHtml = 'Like what you see? Visit the ' +\n",
              "            '<a target=\"_blank\" href=https://colab.research.google.com/notebooks/data_table.ipynb>data table notebook</a>'\n",
              "            + ' to learn more about interactive tables.';\n",
              "          element.innerHTML = '';\n",
              "          dataTable['output_type'] = 'display_data';\n",
              "          await google.colab.output.renderOutput(dataTable, element);\n",
              "          const docLink = document.createElement('div');\n",
              "          docLink.innerHTML = docLinkHtml;\n",
              "          element.appendChild(docLink);\n",
              "        }\n",
              "      </script>\n",
              "    </div>\n",
              "  </div>\n",
              "  "
            ]
          },
          "metadata": {},
          "execution_count": 26
        }
      ]
    },
    {
      "cell_type": "code",
      "source": [
        "sexoempresa['Proporção'] = sexoempresa['Feminino']/sexoempresa['Masculino']"
      ],
      "metadata": {
        "id": "AS05koX-YcMM"
      },
      "execution_count": 27,
      "outputs": []
    },
    {
      "cell_type": "code",
      "source": [
        "sexoempresa"
      ],
      "metadata": {
        "colab": {
          "base_uri": "https://localhost:8080/",
          "height": 175
        },
        "id": "PJQapTGQYs5b",
        "outputId": "56aea372-ce39-4882-b09d-86812c351049"
      },
      "execution_count": 28,
      "outputs": [
        {
          "output_type": "execute_result",
          "data": {
            "text/plain": [
              "sexo                Feminino  Masculino  Proporção\n",
              "tamanho_da_empresa                                \n",
              "Grande                     7         55   0.127273\n",
              "Média                     16         55   0.290909\n",
              "Pequena                    7         47   0.148936"
            ],
            "text/html": [
              "\n",
              "  <div id=\"df-ebc34572-b3ff-4af6-a059-6357cd523382\">\n",
              "    <div class=\"colab-df-container\">\n",
              "      <div>\n",
              "<style scoped>\n",
              "    .dataframe tbody tr th:only-of-type {\n",
              "        vertical-align: middle;\n",
              "    }\n",
              "\n",
              "    .dataframe tbody tr th {\n",
              "        vertical-align: top;\n",
              "    }\n",
              "\n",
              "    .dataframe thead th {\n",
              "        text-align: right;\n",
              "    }\n",
              "</style>\n",
              "<table border=\"1\" class=\"dataframe\">\n",
              "  <thead>\n",
              "    <tr style=\"text-align: right;\">\n",
              "      <th>sexo</th>\n",
              "      <th>Feminino</th>\n",
              "      <th>Masculino</th>\n",
              "      <th>Proporção</th>\n",
              "    </tr>\n",
              "    <tr>\n",
              "      <th>tamanho_da_empresa</th>\n",
              "      <th></th>\n",
              "      <th></th>\n",
              "      <th></th>\n",
              "    </tr>\n",
              "  </thead>\n",
              "  <tbody>\n",
              "    <tr>\n",
              "      <th>Grande</th>\n",
              "      <td>7</td>\n",
              "      <td>55</td>\n",
              "      <td>0.127273</td>\n",
              "    </tr>\n",
              "    <tr>\n",
              "      <th>Média</th>\n",
              "      <td>16</td>\n",
              "      <td>55</td>\n",
              "      <td>0.290909</td>\n",
              "    </tr>\n",
              "    <tr>\n",
              "      <th>Pequena</th>\n",
              "      <td>7</td>\n",
              "      <td>47</td>\n",
              "      <td>0.148936</td>\n",
              "    </tr>\n",
              "  </tbody>\n",
              "</table>\n",
              "</div>\n",
              "      <button class=\"colab-df-convert\" onclick=\"convertToInteractive('df-ebc34572-b3ff-4af6-a059-6357cd523382')\"\n",
              "              title=\"Convert this dataframe to an interactive table.\"\n",
              "              style=\"display:none;\">\n",
              "        \n",
              "  <svg xmlns=\"http://www.w3.org/2000/svg\" height=\"24px\"viewBox=\"0 0 24 24\"\n",
              "       width=\"24px\">\n",
              "    <path d=\"M0 0h24v24H0V0z\" fill=\"none\"/>\n",
              "    <path d=\"M18.56 5.44l.94 2.06.94-2.06 2.06-.94-2.06-.94-.94-2.06-.94 2.06-2.06.94zm-11 1L8.5 8.5l.94-2.06 2.06-.94-2.06-.94L8.5 2.5l-.94 2.06-2.06.94zm10 10l.94 2.06.94-2.06 2.06-.94-2.06-.94-.94-2.06-.94 2.06-2.06.94z\"/><path d=\"M17.41 7.96l-1.37-1.37c-.4-.4-.92-.59-1.43-.59-.52 0-1.04.2-1.43.59L10.3 9.45l-7.72 7.72c-.78.78-.78 2.05 0 2.83L4 21.41c.39.39.9.59 1.41.59.51 0 1.02-.2 1.41-.59l7.78-7.78 2.81-2.81c.8-.78.8-2.07 0-2.86zM5.41 20L4 18.59l7.72-7.72 1.47 1.35L5.41 20z\"/>\n",
              "  </svg>\n",
              "      </button>\n",
              "      \n",
              "  <style>\n",
              "    .colab-df-container {\n",
              "      display:flex;\n",
              "      flex-wrap:wrap;\n",
              "      gap: 12px;\n",
              "    }\n",
              "\n",
              "    .colab-df-convert {\n",
              "      background-color: #E8F0FE;\n",
              "      border: none;\n",
              "      border-radius: 50%;\n",
              "      cursor: pointer;\n",
              "      display: none;\n",
              "      fill: #1967D2;\n",
              "      height: 32px;\n",
              "      padding: 0 0 0 0;\n",
              "      width: 32px;\n",
              "    }\n",
              "\n",
              "    .colab-df-convert:hover {\n",
              "      background-color: #E2EBFA;\n",
              "      box-shadow: 0px 1px 2px rgba(60, 64, 67, 0.3), 0px 1px 3px 1px rgba(60, 64, 67, 0.15);\n",
              "      fill: #174EA6;\n",
              "    }\n",
              "\n",
              "    [theme=dark] .colab-df-convert {\n",
              "      background-color: #3B4455;\n",
              "      fill: #D2E3FC;\n",
              "    }\n",
              "\n",
              "    [theme=dark] .colab-df-convert:hover {\n",
              "      background-color: #434B5C;\n",
              "      box-shadow: 0px 1px 3px 1px rgba(0, 0, 0, 0.15);\n",
              "      filter: drop-shadow(0px 1px 2px rgba(0, 0, 0, 0.3));\n",
              "      fill: #FFFFFF;\n",
              "    }\n",
              "  </style>\n",
              "\n",
              "      <script>\n",
              "        const buttonEl =\n",
              "          document.querySelector('#df-ebc34572-b3ff-4af6-a059-6357cd523382 button.colab-df-convert');\n",
              "        buttonEl.style.display =\n",
              "          google.colab.kernel.accessAllowed ? 'block' : 'none';\n",
              "\n",
              "        async function convertToInteractive(key) {\n",
              "          const element = document.querySelector('#df-ebc34572-b3ff-4af6-a059-6357cd523382');\n",
              "          const dataTable =\n",
              "            await google.colab.kernel.invokeFunction('convertToInteractive',\n",
              "                                                     [key], {});\n",
              "          if (!dataTable) return;\n",
              "\n",
              "          const docLinkHtml = 'Like what you see? Visit the ' +\n",
              "            '<a target=\"_blank\" href=https://colab.research.google.com/notebooks/data_table.ipynb>data table notebook</a>'\n",
              "            + ' to learn more about interactive tables.';\n",
              "          element.innerHTML = '';\n",
              "          dataTable['output_type'] = 'display_data';\n",
              "          await google.colab.output.renderOutput(dataTable, element);\n",
              "          const docLink = document.createElement('div');\n",
              "          docLink.innerHTML = docLinkHtml;\n",
              "          element.appendChild(docLink);\n",
              "        }\n",
              "      </script>\n",
              "    </div>\n",
              "  </div>\n",
              "  "
            ]
          },
          "metadata": {},
          "execution_count": 28
        }
      ]
    },
    {
      "cell_type": "code",
      "source": [
        "cds.groupby(['escolaridade']).mean()['salario'].round(2) #media por escolaridade"
      ],
      "metadata": {
        "colab": {
          "base_uri": "https://localhost:8080/"
        },
        "id": "2lOXeNZdYu7u",
        "outputId": "230a1d91-9118-4bc8-f802-1aca41e9bf5e"
      },
      "execution_count": 30,
      "outputs": [
        {
          "output_type": "execute_result",
          "data": {
            "text/plain": [
              "escolaridade\n",
              "Doutorado ou Phd              13500.00\n",
              "Estudante de Graduação         3689.66\n",
              "Graduação/Bacharelado          5532.79\n",
              "Mestrado                       7918.60\n",
              "Não tenho graduação formal     7500.00\n",
              "Pós-graduação                  8986.84\n",
              "Name: salario, dtype: float64"
            ]
          },
          "metadata": {},
          "execution_count": 30
        }
      ]
    },
    {
      "cell_type": "code",
      "source": [
        "cds.groupby(['escolaridade']).describe()['salario'].round(2)"
      ],
      "metadata": {
        "colab": {
          "base_uri": "https://localhost:8080/",
          "height": 269
        },
        "id": "f1g3pEMuZXe5",
        "outputId": "c230b556-1d26-449b-85ed-7e46c395284c"
      },
      "execution_count": 31,
      "outputs": [
        {
          "output_type": "execute_result",
          "data": {
            "text/plain": [
              "                            count      mean      std     min      25%  \\\n",
              "escolaridade                                                            \n",
              "Doutorado ou Phd             11.0  13500.00  7221.50  5000.0  10000.0   \n",
              "Estudante de Graduação       29.0   3689.66  4102.29  1500.0   1500.0   \n",
              "Graduação/Bacharelado        61.0   5532.79  3046.68  1500.0   3500.0   \n",
              "Mestrado                     43.0   7918.60  3387.53  1500.0   5000.0   \n",
              "Não tenho graduação formal    5.0   7500.00  6082.76  2500.0   5000.0   \n",
              "Pós-graduação                38.0   8986.84  4638.98  2500.0   5000.0   \n",
              "\n",
              "                                50%      75%      max  \n",
              "escolaridade                                           \n",
              "Doutorado ou Phd            10000.0  18250.0  25000.0  \n",
              "Estudante de Graduação       2500.0   3500.0  22500.0  \n",
              "Graduação/Bacharelado        5000.0   7000.0  18000.0  \n",
              "Mestrado                     7000.0  10000.0  18000.0  \n",
              "Não tenho graduação formal   5000.0   7000.0  18000.0  \n",
              "Pós-graduação                7000.0  10000.0  22500.0  "
            ],
            "text/html": [
              "\n",
              "  <div id=\"df-741a2247-095c-494a-a318-ea8a37fb2407\">\n",
              "    <div class=\"colab-df-container\">\n",
              "      <div>\n",
              "<style scoped>\n",
              "    .dataframe tbody tr th:only-of-type {\n",
              "        vertical-align: middle;\n",
              "    }\n",
              "\n",
              "    .dataframe tbody tr th {\n",
              "        vertical-align: top;\n",
              "    }\n",
              "\n",
              "    .dataframe thead th {\n",
              "        text-align: right;\n",
              "    }\n",
              "</style>\n",
              "<table border=\"1\" class=\"dataframe\">\n",
              "  <thead>\n",
              "    <tr style=\"text-align: right;\">\n",
              "      <th></th>\n",
              "      <th>count</th>\n",
              "      <th>mean</th>\n",
              "      <th>std</th>\n",
              "      <th>min</th>\n",
              "      <th>25%</th>\n",
              "      <th>50%</th>\n",
              "      <th>75%</th>\n",
              "      <th>max</th>\n",
              "    </tr>\n",
              "    <tr>\n",
              "      <th>escolaridade</th>\n",
              "      <th></th>\n",
              "      <th></th>\n",
              "      <th></th>\n",
              "      <th></th>\n",
              "      <th></th>\n",
              "      <th></th>\n",
              "      <th></th>\n",
              "      <th></th>\n",
              "    </tr>\n",
              "  </thead>\n",
              "  <tbody>\n",
              "    <tr>\n",
              "      <th>Doutorado ou Phd</th>\n",
              "      <td>11.0</td>\n",
              "      <td>13500.00</td>\n",
              "      <td>7221.50</td>\n",
              "      <td>5000.0</td>\n",
              "      <td>10000.0</td>\n",
              "      <td>10000.0</td>\n",
              "      <td>18250.0</td>\n",
              "      <td>25000.0</td>\n",
              "    </tr>\n",
              "    <tr>\n",
              "      <th>Estudante de Graduação</th>\n",
              "      <td>29.0</td>\n",
              "      <td>3689.66</td>\n",
              "      <td>4102.29</td>\n",
              "      <td>1500.0</td>\n",
              "      <td>1500.0</td>\n",
              "      <td>2500.0</td>\n",
              "      <td>3500.0</td>\n",
              "      <td>22500.0</td>\n",
              "    </tr>\n",
              "    <tr>\n",
              "      <th>Graduação/Bacharelado</th>\n",
              "      <td>61.0</td>\n",
              "      <td>5532.79</td>\n",
              "      <td>3046.68</td>\n",
              "      <td>1500.0</td>\n",
              "      <td>3500.0</td>\n",
              "      <td>5000.0</td>\n",
              "      <td>7000.0</td>\n",
              "      <td>18000.0</td>\n",
              "    </tr>\n",
              "    <tr>\n",
              "      <th>Mestrado</th>\n",
              "      <td>43.0</td>\n",
              "      <td>7918.60</td>\n",
              "      <td>3387.53</td>\n",
              "      <td>1500.0</td>\n",
              "      <td>5000.0</td>\n",
              "      <td>7000.0</td>\n",
              "      <td>10000.0</td>\n",
              "      <td>18000.0</td>\n",
              "    </tr>\n",
              "    <tr>\n",
              "      <th>Não tenho graduação formal</th>\n",
              "      <td>5.0</td>\n",
              "      <td>7500.00</td>\n",
              "      <td>6082.76</td>\n",
              "      <td>2500.0</td>\n",
              "      <td>5000.0</td>\n",
              "      <td>5000.0</td>\n",
              "      <td>7000.0</td>\n",
              "      <td>18000.0</td>\n",
              "    </tr>\n",
              "    <tr>\n",
              "      <th>Pós-graduação</th>\n",
              "      <td>38.0</td>\n",
              "      <td>8986.84</td>\n",
              "      <td>4638.98</td>\n",
              "      <td>2500.0</td>\n",
              "      <td>5000.0</td>\n",
              "      <td>7000.0</td>\n",
              "      <td>10000.0</td>\n",
              "      <td>22500.0</td>\n",
              "    </tr>\n",
              "  </tbody>\n",
              "</table>\n",
              "</div>\n",
              "      <button class=\"colab-df-convert\" onclick=\"convertToInteractive('df-741a2247-095c-494a-a318-ea8a37fb2407')\"\n",
              "              title=\"Convert this dataframe to an interactive table.\"\n",
              "              style=\"display:none;\">\n",
              "        \n",
              "  <svg xmlns=\"http://www.w3.org/2000/svg\" height=\"24px\"viewBox=\"0 0 24 24\"\n",
              "       width=\"24px\">\n",
              "    <path d=\"M0 0h24v24H0V0z\" fill=\"none\"/>\n",
              "    <path d=\"M18.56 5.44l.94 2.06.94-2.06 2.06-.94-2.06-.94-.94-2.06-.94 2.06-2.06.94zm-11 1L8.5 8.5l.94-2.06 2.06-.94-2.06-.94L8.5 2.5l-.94 2.06-2.06.94zm10 10l.94 2.06.94-2.06 2.06-.94-2.06-.94-.94-2.06-.94 2.06-2.06.94z\"/><path d=\"M17.41 7.96l-1.37-1.37c-.4-.4-.92-.59-1.43-.59-.52 0-1.04.2-1.43.59L10.3 9.45l-7.72 7.72c-.78.78-.78 2.05 0 2.83L4 21.41c.39.39.9.59 1.41.59.51 0 1.02-.2 1.41-.59l7.78-7.78 2.81-2.81c.8-.78.8-2.07 0-2.86zM5.41 20L4 18.59l7.72-7.72 1.47 1.35L5.41 20z\"/>\n",
              "  </svg>\n",
              "      </button>\n",
              "      \n",
              "  <style>\n",
              "    .colab-df-container {\n",
              "      display:flex;\n",
              "      flex-wrap:wrap;\n",
              "      gap: 12px;\n",
              "    }\n",
              "\n",
              "    .colab-df-convert {\n",
              "      background-color: #E8F0FE;\n",
              "      border: none;\n",
              "      border-radius: 50%;\n",
              "      cursor: pointer;\n",
              "      display: none;\n",
              "      fill: #1967D2;\n",
              "      height: 32px;\n",
              "      padding: 0 0 0 0;\n",
              "      width: 32px;\n",
              "    }\n",
              "\n",
              "    .colab-df-convert:hover {\n",
              "      background-color: #E2EBFA;\n",
              "      box-shadow: 0px 1px 2px rgba(60, 64, 67, 0.3), 0px 1px 3px 1px rgba(60, 64, 67, 0.15);\n",
              "      fill: #174EA6;\n",
              "    }\n",
              "\n",
              "    [theme=dark] .colab-df-convert {\n",
              "      background-color: #3B4455;\n",
              "      fill: #D2E3FC;\n",
              "    }\n",
              "\n",
              "    [theme=dark] .colab-df-convert:hover {\n",
              "      background-color: #434B5C;\n",
              "      box-shadow: 0px 1px 3px 1px rgba(0, 0, 0, 0.15);\n",
              "      filter: drop-shadow(0px 1px 2px rgba(0, 0, 0, 0.3));\n",
              "      fill: #FFFFFF;\n",
              "    }\n",
              "  </style>\n",
              "\n",
              "      <script>\n",
              "        const buttonEl =\n",
              "          document.querySelector('#df-741a2247-095c-494a-a318-ea8a37fb2407 button.colab-df-convert');\n",
              "        buttonEl.style.display =\n",
              "          google.colab.kernel.accessAllowed ? 'block' : 'none';\n",
              "\n",
              "        async function convertToInteractive(key) {\n",
              "          const element = document.querySelector('#df-741a2247-095c-494a-a318-ea8a37fb2407');\n",
              "          const dataTable =\n",
              "            await google.colab.kernel.invokeFunction('convertToInteractive',\n",
              "                                                     [key], {});\n",
              "          if (!dataTable) return;\n",
              "\n",
              "          const docLinkHtml = 'Like what you see? Visit the ' +\n",
              "            '<a target=\"_blank\" href=https://colab.research.google.com/notebooks/data_table.ipynb>data table notebook</a>'\n",
              "            + ' to learn more about interactive tables.';\n",
              "          element.innerHTML = '';\n",
              "          dataTable['output_type'] = 'display_data';\n",
              "          await google.colab.output.renderOutput(dataTable, element);\n",
              "          const docLink = document.createElement('div');\n",
              "          docLink.innerHTML = docLinkHtml;\n",
              "          element.appendChild(docLink);\n",
              "        }\n",
              "      </script>\n",
              "    </div>\n",
              "  </div>\n",
              "  "
            ]
          },
          "metadata": {},
          "execution_count": 31
        }
      ]
    },
    {
      "cell_type": "code",
      "source": [
        "cds[cds['escolaridade'] == 'Não tenho graduação formal']['salario']"
      ],
      "metadata": {
        "colab": {
          "base_uri": "https://localhost:8080/"
        },
        "id": "QXt1hbbNZvEE",
        "outputId": "c0ab3914-b294-4127-e229-07098cb795d7"
      },
      "execution_count": 32,
      "outputs": [
        {
          "output_type": "execute_result",
          "data": {
            "text/plain": [
              "165      2500.0\n",
              "536      7000.0\n",
              "626      5000.0\n",
              "1142     5000.0\n",
              "1290    18000.0\n",
              "1764        NaN\n",
              "Name: salario, dtype: float64"
            ]
          },
          "metadata": {},
          "execution_count": 32
        }
      ]
    },
    {
      "cell_type": "code",
      "source": [
        "cds [\"('P21', 'python')\"].mean() #proporcao de pessoas que usam python"
      ],
      "metadata": {
        "colab": {
          "base_uri": "https://localhost:8080/"
        },
        "id": "YhZxuT_CaNJj",
        "outputId": "dd5e4f23-899f-4a2a-b02d-407d54590360"
      },
      "execution_count": 33,
      "outputs": [
        {
          "output_type": "execute_result",
          "data": {
            "text/plain": [
              "0.8963730569948186"
            ]
          },
          "metadata": {},
          "execution_count": 33
        }
      ]
    },
    {
      "cell_type": "code",
      "source": [
        "cds.filter(regex='P21').mean().sort_values(ascending= False)#regular expression"
      ],
      "metadata": {
        "colab": {
          "base_uri": "https://localhost:8080/"
        },
        "id": "Kn2uTmXSagP3",
        "outputId": "65baa62f-9364-485a-fac5-aba32d0648de"
      },
      "execution_count": 35,
      "outputs": [
        {
          "output_type": "execute_result",
          "data": {
            "text/plain": [
              "('P21', 'python')                 0.896373\n",
              "('P21', 'sql_')                   0.730570\n",
              "('P21', 'r')                      0.383420\n",
              "('P21', 'sas_stata')              0.088083\n",
              "('P21', 'scala')                  0.082902\n",
              "('P21', 'visual_basic_vba')       0.051813\n",
              "('P21', 'java')                   0.041451\n",
              "('P21', 'c_c++_c#')               0.031088\n",
              "('P21', 'matlab')                 0.025907\n",
              "('P21', 'dotnet')                 0.010363\n",
              "('P21', 'julia')                  0.010363\n",
              "('P21', 'php')                    0.005181\n",
              "('P21', 'no_listed_languages')    0.000000\n",
              "dtype: float64"
            ]
          },
          "metadata": {},
          "execution_count": 35
        }
      ]
    },
    {
      "cell_type": "code",
      "source": [
        "cds.filter(regex='P20').mean().sort_values(ascending= False) #uso das categorias"
      ],
      "metadata": {
        "colab": {
          "base_uri": "https://localhost:8080/"
        },
        "id": "HnFhEh7oiYMJ",
        "outputId": "74e4302a-7790-468a-b720-3e81c3581936"
      },
      "execution_count": 36,
      "outputs": [
        {
          "output_type": "execute_result",
          "data": {
            "text/plain": [
              "('P20', 'linear_regression')             0.740933\n",
              "('P20', 'logistic_regression')           0.673575\n",
              "('P20', 'decision_tree')                 0.652850\n",
              "('P20', 'random_forest')                 0.647668\n",
              "('P20', 'cluster_analysis')              0.601036\n",
              "('P20', 'neural_networks')               0.461140\n",
              "('P20', 'gradient_boosted_machines')     0.445596\n",
              "('P20', 'ensemble')                      0.398964\n",
              "('P20', 'nlp')                           0.352332\n",
              "('P20', 'bayesian_inference')            0.321244\n",
              "('P20', 'svms')                          0.305699\n",
              "('P20', 'glms')                          0.290155\n",
              "('P20', 'rnns')                          0.181347\n",
              "('P20', 'longitudinal_data_analysis')    0.176166\n",
              "('P20', 'cnns')                          0.165803\n",
              "('P20', 'markov_chains')                 0.134715\n",
              "('P20', 'survival_analysis')             0.134715\n",
              "('P20', 'joint analysis')                0.067358\n",
              "('P20', 'gans')                          0.046632\n",
              "('P20', 'hmms')                          0.041451\n",
              "('P20', 'no_listed_methods')             0.036269\n",
              "dtype: float64"
            ]
          },
          "metadata": {},
          "execution_count": 36
        }
      ]
    },
    {
      "cell_type": "code",
      "source": [
        "cds.filter(regex='P27').mean().sort_values(ascending= False) #uso dos softwares"
      ],
      "metadata": {
        "colab": {
          "base_uri": "https://localhost:8080/"
        },
        "id": "idTaT2Wni5yE",
        "outputId": "8ab8db10-adb9-4f90-89b7-913dd29995ce"
      },
      "execution_count": 37,
      "outputs": [
        {
          "output_type": "execute_result",
          "data": {
            "text/plain": [
              "('P27', 'microsoft_powerbi')               0.336788\n",
              "('P27', 'no_bi_tool_at_work')              0.217617\n",
              "('P27', 'metabase')                        0.186528\n",
              "('P27', 'tableau')                         0.176166\n",
              "('P27', 'google_data_studio')              0.134715\n",
              "('P27', 'qlik_view_qlik_sense')            0.088083\n",
              "('P27', 'only_excel_gsheets')              0.077720\n",
              "('P27', 'other')                           0.077720\n",
              "('P27', 'redash')                          0.041451\n",
              "('P27', 'ibm_analytics_cognos')            0.025907\n",
              "('P27', 'superset')                        0.020725\n",
              "('P27', 'microstrategy')                   0.020725\n",
              "('P27', 'looker')                          0.015544\n",
              "('P27', 'sap_business_objects')            0.005181\n",
              "('P27', 'oracle_business_intelligence')    0.005181\n",
              "('P27', 'birst')                           0.000000\n",
              "dtype: float64"
            ]
          },
          "metadata": {},
          "execution_count": 37
        }
      ]
    },
    {
      "cell_type": "code",
      "source": [
        "abi = dados[dados['profissao']== 'Analista de BI']"
      ],
      "metadata": {
        "id": "dijpqjEZjhHk"
      },
      "execution_count": 38,
      "outputs": []
    },
    {
      "cell_type": "code",
      "source": [
        "abi.filter(regex='P27').mean().sort_values(ascending= False)"
      ],
      "metadata": {
        "colab": {
          "base_uri": "https://localhost:8080/"
        },
        "id": "R_zdqFvwjmle",
        "outputId": "8e1a7334-e4f5-475b-9226-9b1803a9fe9a"
      },
      "execution_count": 40,
      "outputs": [
        {
          "output_type": "execute_result",
          "data": {
            "text/plain": [
              "('P27', 'microsoft_powerbi')               0.274900\n",
              "('P27', 'tableau')                         0.095618\n",
              "('P27', 'qlik_view_qlik_sense')            0.083665\n",
              "('P27', 'only_excel_gsheets')              0.079681\n",
              "('P27', 'other')                           0.063745\n",
              "('P27', 'metabase')                        0.051793\n",
              "('P27', 'google_data_studio')              0.043825\n",
              "('P27', 'microstrategy')                   0.027888\n",
              "('P27', 'no_bi_tool_at_work')              0.027888\n",
              "('P27', 'sap_business_objects')            0.023904\n",
              "('P27', 'ibm_analytics_cognos')            0.019920\n",
              "('P27', 'superset')                        0.011952\n",
              "('P27', 'oracle_business_intelligence')    0.007968\n",
              "('P27', 'looker')                          0.003984\n",
              "('P27', 'redash')                          0.000000\n",
              "('P27', 'birst')                           0.000000\n",
              "dtype: float64"
            ]
          },
          "metadata": {},
          "execution_count": 40
        }
      ]
    },
    {
      "cell_type": "code",
      "source": [
        "cds.filter(regex='P34').mean().sort_values(ascending= False)"
      ],
      "metadata": {
        "colab": {
          "base_uri": "https://localhost:8080/"
        },
        "id": "6ZdTZRU5kbnE",
        "outputId": "6bb436a4-5719-4db0-fc12-1fbd0a464524"
      },
      "execution_count": 41,
      "outputs": [
        {
          "output_type": "execute_result",
          "data": {
            "text/plain": [
              "('P34', 'udemy')             0.663212\n",
              "('P34', 'coursera')          0.632124\n",
              "('P34', 'udacity')           0.487047\n",
              "('P34', 'data_camp')         0.393782\n",
              "('P34', 'edx')               0.300518\n",
              "('P34', 'kaggle_learn')      0.295337\n",
              "('P34', 'height')            0.129534\n",
              "('P34', 'online_courses')    0.056995\n",
              "('P34', 'data_quest')        0.046632\n",
              "('P34', 'other')             0.046632\n",
              "dtype: float64"
            ]
          },
          "metadata": {},
          "execution_count": 41
        }
      ]
    }
  ]
}